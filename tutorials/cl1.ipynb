{
 "cells": [
  {
   "cell_type": "code",
   "execution_count": 2,
   "metadata": {},
   "outputs": [
    {
     "name": "stdout",
     "output_type": "stream",
     "text": [
      "Car has 4 and engine Electric\n",
      "engine type is ev\n"
     ]
    }
   ],
   "source": [
    "class Car:\n",
    "    def __init__(self,engine,windows):\n",
    "        self.engine=engine\n",
    "        self.windows=windows\n",
    "    def show(self):\n",
    "        print(f\"Car has {self.windows} and engine {self.engine}\")\n",
    "class Tesla(Car):\n",
    "    def __init__(self,engine,windows,etype):\n",
    "        super().__init__(engine,windows)\n",
    "        self.etype=etype\n",
    "    def typ(self):\n",
    "        print(f\"engine type is {self.etype}\")\n",
    "t=Tesla(\"Electric\",4,\"ev\")\n",
    "t.show()\n",
    "t.typ()"
   ]
  },
  {
   "cell_type": "code",
   "execution_count": 11,
   "metadata": {},
   "outputs": [
    {
     "name": "stdout",
     "output_type": "stream",
     "text": [
      "vehicle has 4 and etype V8\n",
      "vehicle is petrol\n",
      "torque of vehicle 480\n"
     ]
    }
   ],
   "source": [
    "class Vehicle:\n",
    "    def __init__(self,etype,windows):\n",
    "        self.etype=etype\n",
    "        self.windows=windows\n",
    "    def show(self):\n",
    "        print(f\"vehicle has {self.windows} and etype {self.etype}\")\n",
    "class Fwheel:\n",
    "    def __init__(self,fuelt):\n",
    "        self.fuelt=fuelt\n",
    "    def ftyp(self):\n",
    "        print(f\"vehicle is {self.fuelt}\")\n",
    "class Bmw(Vehicle,Fwheel):\n",
    "    def __init__(self,etype,windows,fuelt,torque):\n",
    "        Vehicle.__init__(self,etype,windows)\n",
    "        Fwheel.__init__(self,fuelt)\n",
    "        self.torque=torque\n",
    "    def s(self):\n",
    "        print(f\"torque of vehicle {self.torque}\")\n",
    "b=Bmw(\"V8\",4,\"petrol\",480)\n",
    "b.show()\n",
    "b.ftyp()\n",
    "b.s()\n"
   ]
  }
 ],
 "metadata": {
  "kernelspec": {
   "display_name": "venv",
   "language": "python",
   "name": "python3"
  },
  "language_info": {
   "codemirror_mode": {
    "name": "ipython",
    "version": 3
   },
   "file_extension": ".py",
   "mimetype": "text/x-python",
   "name": "python",
   "nbconvert_exporter": "python",
   "pygments_lexer": "ipython3",
   "version": "3.12.5"
  }
 },
 "nbformat": 4,
 "nbformat_minor": 2
}
