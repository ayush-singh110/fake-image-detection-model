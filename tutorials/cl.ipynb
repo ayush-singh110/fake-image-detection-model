{
 "cells": [
  {
   "cell_type": "code",
   "execution_count": 1,
   "metadata": {},
   "outputs": [
    {
     "name": "stdout",
     "output_type": "stream",
     "text": [
      "name isPug and age is 8\n"
     ]
    }
   ],
   "source": [
    "class Dog:\n",
    "    def __init__(self,name,age):\n",
    "        self.name=name\n",
    "        self.age=age\n",
    "    def show(self):\n",
    "        print(f\"name is{self.name} and age is {self.age}\")\n",
    "d1=Dog(\"Pug\",8)\n",
    "d1.show()"
   ]
  },
  {
   "cell_type": "code",
   "execution_count": 2,
   "metadata": {},
   "outputs": [
    {
     "name": "stdout",
     "output_type": "stream",
     "text": [
      "balance in account 3000\n"
     ]
    }
   ],
   "source": [
    "class Account:\n",
    "    def __init__(self,owner,balance=0):\n",
    "        self.owner=owner\n",
    "        self.balance=balance\n",
    "    def deposit(self,amount):\n",
    "        self.balance=self.balance+amount\n",
    "    def withdraw(self,amount):\n",
    "        if amount>self.balance:\n",
    "            print(\"insufficient balance\")\n",
    "        else:\n",
    "            self.balance=self.balance-amount\n",
    "    def show(self):\n",
    "        print(f\"balance in account {self.balance}\")\n",
    "a=Account(\"Ram\")\n",
    "a.deposit(4000)\n",
    "a.withdraw(1000)\n",
    "a.show()"
   ]
  }
 ],
 "metadata": {
  "kernelspec": {
   "display_name": "venv",
   "language": "python",
   "name": "python3"
  },
  "language_info": {
   "codemirror_mode": {
    "name": "ipython",
    "version": 3
   },
   "file_extension": ".py",
   "mimetype": "text/x-python",
   "name": "python",
   "nbconvert_exporter": "python",
   "pygments_lexer": "ipython3",
   "version": "3.12.5"
  }
 },
 "nbformat": 4,
 "nbformat_minor": 2
}
