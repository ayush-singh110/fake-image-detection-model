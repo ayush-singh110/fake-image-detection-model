{
 "cells": [
  {
   "cell_type": "code",
   "execution_count": 2,
   "metadata": {},
   "outputs": [
    {
     "name": "stderr",
     "output_type": "stream",
     "text": [
      "DEBUG:root:This is a debug msg\n",
      "WARNING:root:This is a warning msg\n",
      "CRITICAL:root:This is critical msg\n",
      "INFO:root:This is an info msg\n"
     ]
    }
   ],
   "source": [
    "import logging as lg\n",
    "lg.basicConfig(level=lg.DEBUG)\n",
    "lg.debug(\"This is a debug msg\")\n",
    "lg.warning(\"This is a warning msg\")\n",
    "lg.critical(\"This is critical msg\")\n",
    "lg.info(\"This is an info msg\")\n"
   ]
  },
  {
   "cell_type": "code",
   "execution_count": 1,
   "metadata": {},
   "outputs": [],
   "source": [
    "import logging as lg\n",
    "lg.basicConfig(filename=\"app.log\",filemode=\"w\",level=lg.DEBUG)\n",
    "lg.debug(\"This is a debug msg\")\n",
    "lg.info(\"This is an info\")\n",
    "lg.critical(\"This is critical msg\")\n",
    "lg.warning(\"This is wanring msg\")"
   ]
  },
  {
   "cell_type": "code",
   "execution_count": 2,
   "metadata": {},
   "outputs": [
    {
     "name": "stderr",
     "output_type": "stream",
     "text": [
      "DEBUG:root:D has started\n"
     ]
    }
   ],
   "source": [
    "import logging as lg \n",
    "lg.basicConfig(level=lg.DEBUG)\n",
    "lg.debug(\"D has started\")"
   ]
  },
  {
   "cell_type": "code",
   "execution_count": 3,
   "metadata": {},
   "outputs": [],
   "source": [
    "import logging as lg\n",
    "l1=lg.getLogger(\"mod1\")\n",
    "l1.setLevel(lg.DEBUG)\n",
    "l2=lg.getLogger(\"mod2\")\n",
    "l2.setLevel(lg.WARNING)\n"
   ]
  },
  {
   "cell_type": "code",
   "execution_count": 4,
   "metadata": {},
   "outputs": [
    {
     "name": "stderr",
     "output_type": "stream",
     "text": [
      "DEBUG:mod1:This is me\n",
      "WARNING:mod2:Its me\n"
     ]
    }
   ],
   "source": [
    "lg.basicConfig(level=lg.DEBUG)\n",
    "l1.debug(\"This is me\")\n",
    "l2.warning(\"Its me\")"
   ]
  }
 ],
 "metadata": {
  "kernelspec": {
   "display_name": "venv",
   "language": "python",
   "name": "python3"
  },
  "language_info": {
   "codemirror_mode": {
    "name": "ipython",
    "version": 3
   },
   "file_extension": ".py",
   "mimetype": "text/x-python",
   "name": "python",
   "nbconvert_exporter": "python",
   "pygments_lexer": "ipython3",
   "version": "3.12.5"
  }
 },
 "nbformat": 4,
 "nbformat_minor": 2
}
